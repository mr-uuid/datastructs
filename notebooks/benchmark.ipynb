{
 "cells": [
  {
   "cell_type": "markdown",
   "metadata": {},
   "source": [
    "# Benchmark Plots for Algorithms"
   ]
  },
  {
   "cell_type": "code",
   "execution_count": null,
   "metadata": {},
   "outputs": [],
   "source": [
    "%matplotlib nbagg\n",
    "\n",
    "import matplotlib\n",
    "import numpy as np\n",
    "import matplotlib.pyplot as plt"
   ]
  },
  {
   "cell_type": "code",
   "execution_count": null,
   "metadata": {},
   "outputs": [],
   "source": [
    "import random\n",
    "import collections\n",
    "import importlib\n",
    "import time\n",
    "\n",
    "random.seed(5)\n",
    "sorting_algos = ['insertion', 'merge', 'quick', 'selection']\n",
    "iterations = [10, 100, 1000, 10000]"
   ]
  },
  {
   "cell_type": "code",
   "execution_count": null,
   "metadata": {},
   "outputs": [],
   "source": [
    "def construct_random_array_with_n_elements(n):\n",
    "    return [random.randint(-n, n) for _ in xrange(n)]\n",
    "\n",
    "all_arrays = {x: [construct_random_array_with_n_elements(x) for _ in xrange(10)] for x in iterations}\n",
    "all_arrays\n",
    "sorting_algos"
   ]
  },
  {
   "cell_type": "code",
   "execution_count": null,
   "metadata": {},
   "outputs": [],
   "source": [
    "def average_time_it_takes_to_sort_arrays(sorting_algo, arrays):\n",
    "    return sum(map(lambda array: time_it_takes_to_sort_array_using_algo(sorting_algo, array), arrays)) / max(len(arrays), 1)\n",
    "\n",
    "def time_it_takes_to_sort_array_using_algo(algo, array):\n",
    "    before = time.time()\n",
    "    sort_array_using_algo(algo, array)\n",
    "    return time.time() - before\n",
    "\n",
    "def sort_array_using_algo(algo, array):\n",
    "    sort = getattr(importlib.import_module('sorting.{}'.format(algo)), 'sort')\n",
    "    return sort(array)"
   ]
  },
  {
   "cell_type": "code",
   "execution_count": null,
   "metadata": {},
   "outputs": [],
   "source": [
    "# timers = lambda algo, arrays: {_len: average_time_it_takes_to_sort_arrays(algo, ran_arrays) for _len, ran_arrays in arrays.items()}\n",
    "\n",
    "# average_times = {\n",
    "#     algo: timers(algo, all_arrays)\n",
    "#     for algo in sorting_algos\n",
    "# }\n"
   ]
  },
  {
   "cell_type": "code",
   "execution_count": null,
   "metadata": {},
   "outputs": [],
   "source": [
    "algo = 'insertion'\n",
    "insertion_sort = {_len: average_time_it_takes_to_sort_arrays(algo, ran_arrays) for _len, ran_arrays in all_arrays.items()}"
   ]
  },
  {
   "cell_type": "code",
   "execution_count": null,
   "metadata": {},
   "outputs": [],
   "source": [
    "algo = 'merge'\n",
    "merge_sort = {_len: average_time_it_takes_to_sort_arrays(algo, ran_arrays) for _len, ran_arrays in all_arrays.items()}"
   ]
  },
  {
   "cell_type": "code",
   "execution_count": null,
   "metadata": {},
   "outputs": [],
   "source": [
    "algo = 'selection'\n",
    "selection_sort = {_len: average_time_it_takes_to_sort_arrays(algo, ran_arrays) for _len, ran_arrays in all_arrays.items()}"
   ]
  },
  {
   "cell_type": "code",
   "execution_count": null,
   "metadata": {},
   "outputs": [],
   "source": [
    "# Quick Sort is Currently Broken... TODO: Fix it...\n",
    "# algo = 'quick'\n",
    "# {_len: average_time_it_takes_to_sort_arrays(algo, ran_arrays) for _len, ran_arrays in all_arrays.items()}"
   ]
  },
  {
   "cell_type": "code",
   "execution_count": null,
   "metadata": {},
   "outputs": [],
   "source": [
    "plt.xscale('log')\n",
    "plt.yscale('log')\n",
    "plt.plot(insertion_sort.keys(), insertion_sort.values(), 'x', linewidth=2)\n",
    "plt.plot(merge_sort.keys(), merge_sort.values(), 'x', linewidth=2)\n",
    "plt.plot(selection_sort.keys(), selection_sort.values(), 'x', linewidth=2)"
   ]
  },
  {
   "cell_type": "code",
   "execution_count": null,
   "metadata": {},
   "outputs": [],
   "source": []
  }
 ],
 "metadata": {
  "kernelspec": {
   "display_name": "Python 2",
   "language": "python",
   "name": "python2"
  },
  "language_info": {
   "codemirror_mode": {
    "name": "ipython",
    "version": 2
   },
   "file_extension": ".py",
   "mimetype": "text/x-python",
   "name": "python",
   "nbconvert_exporter": "python",
   "pygments_lexer": "ipython2",
   "version": "2.7.10"
  }
 },
 "nbformat": 4,
 "nbformat_minor": 0
}
